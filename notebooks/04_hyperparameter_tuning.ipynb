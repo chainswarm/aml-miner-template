{
 "cells": [
  {
   "cell_type": "markdown",
   "metadata": {},
   "source": [
    "# Hyperparameter Tuning\n",
    "\n",
    "**Purpose**: Systematic hyperparameter optimization\n",
    "\n",
    "This notebook demonstrates:\n",
    "- Grid search\n",
    "- Random search\n",
    "- Bayesian optimization with Optuna\n",
    "- Cross-validation\n",
    "- Parameter importance analysis"
   ]
  },
  {
   "cell_type": "markdown",
   "metadata": {},
   "source": [
    "## Setup"
   ]
  },
  {
   "cell_type": "code",
   "execution_count": null,
   "metadata": {},
   "outputs": [],
   "source": [
    "import sys\n",
    "sys.path.insert(0, '../')\n",
    "\n",
    "from packages.training import FeatureExtractor, FeatureBuilder, ModelTrainer\n",
    "from packages.storage import ClientFactory, get_connection_params\n",
    "from notebook_utils import *\n",
    "\n",
    "import pandas as pd\n",
    "import numpy as np\n",
    "import matplotlib.pyplot as plt\n",
    "import seaborn as sns\n",
    "from loguru import logger\n",
    "from sklearn.model_selection import GridSearchCV, RandomizedSearchCV, train_test_split\n",
    "import optuna\n",
    "from optuna.visualization import plot_optimization_history, plot_param_importances\n",
    "\n",
    "setup_plotting()\n",
    "optuna.logging.set_verbosity(optuna.logging.WARNING)"
   ]
  },
  {
   "cell_type": "markdown",
   "metadata": {},
   "source": [
    "## Configuration"
   ]
  },
  {
   "cell_type": "code",
   "execution_count": null,
   "metadata": {},
   "outputs": [],
   "source": [
    "NETWORK = 'ethereum'\n",
    "START_DATE = '2024-01-01'\n",
    "END_DATE = '2024-02-29'\n",
    "WINDOW_DAYS = 7\n",
    "TEST_SIZE = 0.2\n",
    "RANDOM_STATE = 42\n",
    "N_TRIALS = 50\n",
    "\n",
    "print(f\"Network: {NETWORK}\")\n",
    "print(f\"Date Range: {START_DATE} to {END_DATE}\")\n",
    "print(f\"Optimization Trials: {N_TRIALS}\")"
   ]
  },
  {
   "cell_type": "markdown",
   "metadata": {},
   "source": [
    "## Load and Prepare Data"
   ]
  },
  {
   "cell_type": "code",
   "execution_count": null,
   "metadata": {},
   "outputs": [],
   "source": [
    "connection_params = get_connection_params(NETWORK)\n",
    "client_factory = ClientFactory(connection_params)\n",
    "\n",
    "with client_factory.client_context() as client:\n",
    "    extractor = FeatureExtractor(client)\n",
    "    data = extractor.extract_training_data(\n",
    "        start_date=START_DATE,\n",
    "        end_date=END_DATE,\n",
    "        window_days=WINDOW_DAYS\n",
    "    )\n",
    "\n",
    "builder = FeatureBuilder()\n",
    "X, y = builder.build_training_features(data)\n",
    "\n",
    "X_train, X_test, y_train, y_test = train_test_split(\n",
    "    X, y, test_size=TEST_SIZE, random_state=RANDOM_STATE, stratify=y\n",
    ")\n",
    "\n",
    "print(f\"Training set: {X_train.shape}\")\n",
    "print(f\"Test set: {X_test.shape}\")"
   ]
  },
  {
   "cell_type": "markdown",
   "metadata": {},
   "source": [
    "## Grid Search"
   ]
  },
  {
   "cell_type": "code",
   "execution_count": null,
   "metadata": {},
   "outputs": [],
   "source": [
    "param_grid = {\n",
    "    'learning_rate': [0.01, 0.05, 0.1],\n",
    "    'max_depth': [3, 5, 7],\n",
    "    'n_estimators': [100, 200]\n",
    "}\n",
    "\n",
    "print(\"Grid Search Configuration:\")\n",
    "print(f\"Parameter grid: {param_grid}\")\n",
    "print(f\"Total combinations: {np.prod([len(v) for v in param_grid.values()])}\")\n",
    "\n",
    "base_trainer = ModelTrainer(model_type='alert_scorer')\n",
    "grid_search = GridSearchCV(\n",
    "    base_trainer,\n",
    "    param_grid,\n",
    "    cv=3,\n",
    "    scoring='roc_auc',\n",
    "    n_jobs=-1,\n",
    "    verbose=1\n",
    ")\n",
    "\n",
    "print(\"\\nRunning grid search...\")\n",
    "grid_search.fit(X_train, y_train)\n",
    "\n",
    "print(f\"\\nBest parameters: {grid_search.best_params_}\")\n",
    "print(f\"Best CV score: {grid_search.best_score_:.4f}\")"
   ]
  },
  {
   "cell_type": "markdown",
   "metadata": {},
   "source": [
    "## Grid Search Results Analysis"
   ]
  },
  {
   "cell_type": "code",
   "execution_count": null,
   "metadata": {},
   "outputs": [],
   "source": [
    "results_df = pd.DataFrame(grid_search.cv_results_)\n",
    "results_df = results_df.sort_values('rank_test_score')\n",
    "\n",
    "print(\"Top 10 parameter combinations:\")\n",
    "display_cols = ['params', 'mean_test_score', 'std_test_score', 'rank_test_score']\n",
    "print(results_df[display_cols].head(10))"
   ]
  },
  {
   "cell_type": "markdown",
   "metadata": {},
   "source": [
    "## Random Search"
   ]
  },
  {
   "cell_type": "code",
   "execution_count": null,
   "metadata": {},
   "outputs": [],
   "source": [
    "from scipy.stats import uniform, randint\n",
    "\n",
    "param_distributions = {\n",
    "    'learning_rate': uniform(0.01, 0.29),\n",
    "    'max_depth': randint(3, 11),\n",
    "    'n_estimators': randint(50, 301),\n",
    "    'min_child_weight': randint(1, 11)\n",
    "}\n",
    "\n",
    "random_search = RandomizedSearchCV(\n",
    "    base_trainer,\n",
    "    param_distributions,\n",
    "    n_iter=20,\n",
    "    cv=3,\n",
    "    scoring='roc_auc',\n",
    "    n_jobs=-1,\n",
    "    random_state=RANDOM_STATE,\n",
    "    verbose=1\n",
    ")\n",
    "\n",
    "print(\"Running random search...\")\n",
    "random_search.fit(X_train, y_train)\n",
    "\n",
    "print(f\"\\nBest parameters: {random_search.best_params_}\")\n",
    "print(f\"Best CV score: {random_search.best_score_:.4f}\")"
   ]
  },
  {
   "cell_type": "markdown",
   "metadata": {},
   "source": [
    "## Bayesian Optimization with Optuna"
   ]
  },
  {
   "cell_type": "code",
   "execution_count": null,
   "metadata": {},
   "outputs": [],
   "source": [
    "def objective(trial):\n",
    "    params = {\n",
    "        'learning_rate': trial.suggest_float('learning_rate', 0.01, 0.3),\n",
    "        'max_depth': trial.suggest_int('max_depth', 3, 10),\n",
    "        'n_estimators': trial.suggest_int('n_estimators', 50, 300),\n",
    "        'min_child_weight': trial.suggest_int('min_child_weight', 1, 10),\n",
    "        'subsample': trial.suggest_float('subsample', 0.6, 1.0),\n",
    "        'colsample_bytree': trial.suggest_float('colsample_bytree', 0.6, 1.0)\n",
    "    }\n",
    "    \n",
    "    trainer = ModelTrainer(model_type='alert_scorer', **params)\n",
    "    model, metrics = trainer.train(X_train, y_train, cv_folds=3)\n",
    "    \n",
    "    return metrics['cv_auc_mean']\n",
    "\n",
    "study = optuna.create_study(direction='maximize', study_name='alert_scorer_tuning')\n",
    "print(f\"Running Optuna optimization with {N_TRIALS} trials...\")\n",
    "study.optimize(objective, n_trials=N_TRIALS, show_progress_bar=True)\n",
    "\n",
    "print(f\"\\nBest trial:\")\n",
    "print(f\"  Value: {study.best_trial.value:.4f}\")\n",
    "print(f\"  Params: {study.best_trial.params}\")"
   ]
  },
  {
   "cell_type": "markdown",
   "metadata": {},
   "source": [
    "## Optimization History"
   ]
  },
  {
   "cell_type": "code",
   "execution_count": null,
   "metadata": {},
   "outputs": [],
   "source": [
    "fig = plot_optimization_history(study)\n",
    "fig.show()"
   ]
  },
  {
   "cell_type": "markdown",
   "metadata": {},
   "source": [
    "## Parameter Importance"
   ]
  },
  {
   "cell_type": "code",
   "execution_count": null,
   "metadata": {},
   "outputs": [],
   "source": [
    "fig = plot_param_importances(study)\n",
    "fig.show()"
   ]
  },
  {
   "cell_type": "markdown",
   "metadata": {},
   "source": [
    "## Parallel Coordinate Plot"
   ]
  },
  {
   "cell_type": "code",
   "execution_count": null,
   "metadata": {},
   "outputs": [],
   "source": [
    "from optuna.visualization import plot_parallel_coordinate\n",
    "\n",
    "fig = plot_parallel_coordinate(study)\n",
    "fig.show()"
   ]
  },
  {
   "cell_type": "markdown",
   "metadata": {},
   "source": [
    "## Parameter Relationships"
   ]
  },
  {
   "cell_type": "code",
   "execution_count": null,
   "metadata": {},
   "outputs": [],
   "source": [
    "trials_df = study.trials_dataframe()\n",
    "trials_df = trials_df.sort_values('value', ascending=False)\n",
    "\n",
    "print(\"Top 10 trials:\")\n",
    "print(trials_df[['value', 'params_learning_rate', 'params_max_depth', \n",
    "                  'params_n_estimators']].head(10))"
   ]
  },
  {
   "cell_type": "code",
   "execution_count": null,
   "metadata": {},
   "outputs": [],
   "source": [
    "fig, axes = plt.subplots(2, 3, figsize=(15, 10))\n",
    "axes = axes.flatten()\n",
    "\n",
    "param_names = ['learning_rate', 'max_depth', 'n_estimators', \n",
    "               'min_child_weight', 'subsample', 'colsample_bytree']\n",
    "\n",
    "for idx, param in enumerate(param_names):\n",
    "    col_name = f'params_{param}'\n",
    "    if col_name in trials_df.columns:\n",
    "        axes[idx].scatter(trials_df[col_name], trials_df['value'], alpha=0.6)\n",
    "        axes[idx].set_xlabel(param)\n",
    "        axes[idx].set_ylabel('CV AUC')\n",
    "        axes[idx].set_title(f'{param} vs Performance')\n",
    "        axes[idx].grid(True, alpha=0.3)\n",
    "\n",
    "plt.tight_layout()\n",
    "plt.show()"
   ]
  },
  {
   "cell_type": "markdown",
   "metadata": {},
   "source": [
    "## Train Final Model with Best Parameters"
   ]
  },
  {
   "cell_type": "code",
   "execution_count": null,
   "metadata": {},
   "outputs": [],
   "source": [
    "best_params = study.best_trial.params\n",
    "print(f\"Training final model with best parameters:\")\n",
    "print(best_params)\n",
    "\n",
    "final_trainer = ModelTrainer(model_type='alert_scorer', **best_params)\n",
    "final_model, final_metrics = final_trainer.train(X_train, y_train, cv_folds=5)\n",
    "\n",
    "print(\"\\n=== Final Model Metrics ===\")\n",
    "print(f\"Test AUC: {final_metrics['test_auc']:.4f}\")\n",
    "print(f\"CV AUC: {final_metrics['cv_auc_mean']:.4f} ± {final_metrics['cv_auc_std']:.4f}\")\n",
    "print(f\"CV Precision: {final_metrics['cv_precision_mean']:.4f} ± {final_metrics['cv_precision_std']:.4f}\")\n",
    "print(f\"CV Recall: {final_metrics['cv_recall_mean']:.4f} ± {final_metrics['cv_recall_std']:.4f}\")"
   ]
  },
  {
   "cell_type": "markdown",
   "metadata": {},
   "source": [
    "## Evaluate on Test Set"
   ]
  },
  {
   "cell_type": "code",
   "execution_count": null,
   "metadata": {},
   "outputs": [],
   "source": [
    "from sklearn.metrics import roc_auc_score\n",
    "\n",
    "y_pred_proba = final_model.predict(X_test)\n",
    "test_auc = roc_auc_score(y_test, y_pred_proba)\n",
    "\n",
    "print(f\"Test Set AUC: {test_auc:.4f}\")\n",
    "\n",
    "plot_roc_curve(y_test, y_pred_proba, model_name='Optimized Model')\n",
    "plt.show()\n",
    "\n",
    "plot_pr_curve(y_test, y_pred_proba, model_name='Optimized Model')\n",
    "plt.show()"
   ]
  },
  {
   "cell_type": "markdown",
   "metadata": {},
   "source": [
    "## Compare Methods"
   ]
  },
  {
   "cell_type": "code",
   "execution_count": null,
   "metadata": {},
   "outputs": [],
   "source": [
    "comparison = {\n",
    "    'Grid Search': grid_search.best_score_,\n",
    "    'Random Search': random_search.best_score_,\n",
    "    'Bayesian (Optuna)': study.best_trial.value,\n",
    "    'Final Model (Test)': test_auc\n",
    "}\n",
    "\n",
    "plot_metric_comparison(comparison, 'Hyperparameter Tuning Method Comparison')\n",
    "plt.ylabel('AUC Score')\n",
    "plt.show()\n",
    "\n",
    "print(\"\\nComparison Summary:\")\n",
    "for method, score in comparison.items():\n",
    "    print(f\"{method:25s}: {score:.4f}\")"
   ]
  },
  {
   "cell_type": "markdown",
   "metadata": {},
   "source": [
    "## Cross-Validation Stability"
   ]
  },
  {
   "cell_type": "code",
   "execution_count": null,
   "metadata": {},
   "outputs": [],
   "source": [
    "cv_scores = []\n",
    "for i in range(5):\n",
    "    model, metrics = final_trainer.train(X_train, y_train, cv_folds=5)\n",
    "    cv_scores.append(metrics['cv_auc_mean'])\n",
    "\n",
    "plt.figure(figsize=(10, 6))\n",
    "plt.plot(range(1, 6), cv_scores, marker='o', linewidth=2, markersize=8)\n",
    "plt.axhline(y=np.mean(cv_scores), color='r', linestyle='--', label=f'Mean: {np.mean(cv_scores):.4f}')\n",
    "plt.xlabel('Run')\n",
    "plt.ylabel('CV AUC')\n",
    "plt.title('Cross-Validation Stability (5 Runs)')\n",
    "plt.legend()\n",
    "plt.grid(True, alpha=0.3)\n",
    "plt.tight_layout()\n",
    "plt.show()\n",
    "\n",
    "print(f\"CV Score Stability:\")\n",
    "print(f\"  Mean: {np.mean(cv_scores):.4f}\")\n",
    "print(f\"  Std:  {np.std(cv_scores):.4f}\")\n",
    "print(f\"  Min:  {np.min(cv_scores):.4f}\")\n",
    "print(f\"  Max:  {np.max(cv_scores):.4f}\")"
   ]
  },
  {
   "cell_type": "markdown",
   "metadata": {},
   "source": [
    "## Save Best Parameters"
   ]
  },
  {
   "cell_type": "code",
   "execution_count": null,
   "metadata": {},
   "outputs": [],
   "source": [
    "import json\n",
    "\n",
    "best_config = {\n",
    "    'model_type': 'alert_scorer',\n",
    "    'network': NETWORK,\n",
    "    'tuning_method': 'optuna',\n",
    "    'n_trials': N_TRIALS,\n",
    "    'best_params': best_params,\n",
    "    'best_cv_score': study.best_trial.value,\n",
    "    'test_score': test_auc,\n",
    "    'training_period': {\n",
    "        'start_date': START_DATE,\n",
    "        'end_date': END_DATE,\n",
    "        'window_days': WINDOW_DAYS\n",
    "    }\n",
    "}\n",
    "\n",
    "print(\"Best Configuration:\")\n",
    "print(json.dumps(best_config, indent=2))\n",
    "\n",
    "# Uncomment to save\n",
    "# with open('best_hyperparameters.json', 'w') as f:\n",
    "#     json.dump(best_config, f, indent=2)\n",
    "# print(\"\\nSaved to best_hyperparameters.json\")"
   ]
  },
  {
   "cell_type": "markdown",
   "metadata": {},
   "source": [
    "## Conclusions\n",
    "\n",
    "**Hyperparameter Tuning Results**:\n",
    "\n",
    "1. **Best Method**: Compare Grid Search, Random Search, and Bayesian Optimization\n",
    "2. **Important Parameters**: Review parameter importance plot\n",
    "3. **Optimal Configuration**: Use best parameters for production\n",
    "4. **Stability**: Verify cross-validation consistency\n",
    "\n",
    "**Key Insights**:\n",
    "- Bayesian optimization typically finds better parameters with fewer trials\n",
    "- Parameter importance helps understand what drives performance\n",
    "- Cross-validation stability indicates robust configuration\n",
    "\n",
    "**Next Steps**:\n",
    "- Use optimized model for comprehensive evaluation\n",
    "- Compare with baseline in Model Comparison notebook\n",
    "- Analyze predictions in Error Analysis notebook\n",
    "- Deploy best model to production"
   ]
  }
 ],
 "metadata": {
  "kernelspec": {
   "display_name": "Python 3",
   "language": "python",
   "name": "python3"
  },
  "language_info": {
   "codemirror_mode": {
    "name": "ipython",
    "version": 3
   },
   "file_extension": ".py",
   "mimetype": "text/x-python",
   "name": "python",
   "nbconvert_exporter": "python",
   "pygments_lexer": "ipython3",
   "version": "3.11.0"
  }
 },
 "nbformat": 4,
 "nbformat_minor": 4
}