{
 "cells": [
  {
   "cell_type": "markdown",
   "metadata": {},
   "source": [
    "# Feature Importance Analysis\n",
    "\n",
    "**Purpose**: Understand which features drive model predictions\n",
    "\n",
    "This notebook provides:\n",
    "- LightGBM built-in feature importance\n",
    "- SHAP value analysis\n",
    "- Permutation importance\n",
    "- Partial dependence plots\n",
    "- Feature interaction detection"
   ]
  },
  {
   "cell_type": "markdown",
   "metadata": {},
   "source": [
    "## Setup"
   ]
  },
  {
   "cell_type": "code",
   "execution_count": null,
   "metadata": {},
   "outputs": [],
   "source": [
    "import sys\n",
    "sys.path.insert(0, '../')\n",
    "\n",
    "from packages.training import FeatureExtractor, FeatureBuilder, ModelTrainer\n",
    "from packages.storage import ClientFactory, get_connection_params\n",
    "from notebook_utils import *\n",
    "\n",
    "import pandas as pd\n",
    "import numpy as np\n",
    "import matplotlib.pyplot as plt\n",
    "import seaborn as sns\n",
    "from loguru import logger\n",
    "from sklearn.model_selection import train_test_split\n",
    "from sklearn.inspection import permutation_importance, partial_dependence\n",
    "import shap\n",
    "\n",
    "setup_plotting()"
   ]
  },
  {
   "cell_type": "markdown",
   "metadata": {},
   "source": [
    "## Configuration"
   ]
  },
  {
   "cell_type": "code",
   "execution_count": null,
   "metadata": {},
   "outputs": [],
   "source": [
    "NETWORK = 'ethereum'\n",
    "START_DATE = '2024-01-01'\n",
    "END_DATE = '2024-02-29'\n",
    "WINDOW_DAYS = 7\n",
    "TEST_SIZE = 0.2\n",
    "RANDOM_STATE = 42\n",
    "\n",
    "print(f\"Network: {NETWORK}\")\n",
    "print(f\"Analysis Period: {START_DATE} to {END_DATE}\")"
   ]
  },
  {
   "cell_type": "markdown",
   "metadata": {},
   "source": [
    "## Load Data and Train Model"
   ]
  },
  {
   "cell_type": "code",
   "execution_count": null,
   "metadata": {},
   "outputs": [],
   "source": [
    "connection_params = get_connection_params(NETWORK)\n",
    "client_factory = ClientFactory(connection_params)\n",
    "\n",
    "with client_factory.client_context() as client:\n",
    "    extractor = FeatureExtractor(client)\n",
    "    data = extractor.extract_training_data(\n",
    "        start_date=START_DATE,\n",
    "        end_date=END_DATE,\n",
    "        window_days=WINDOW_DAYS\n",
    "    )\n",
    "\n",
    "builder = FeatureBuilder()\n",
    "X, y = builder.build_training_features(data)\n",
    "\n",
    "X_train, X_test, y_train, y_test = train_test_split(\n",
    "    X, y, test_size=TEST_SIZE, random_state=RANDOM_STATE, stratify=y\n",
    ")\n",
    "\n",
    "print(f\"Data loaded: {X.shape}\")\n",
    "print(f\"Features: {len(X.columns)}\")"
   ]
  },
  {
   "cell_type": "code",
   "execution_count": null,
   "metadata": {},
   "outputs": [],
   "source": [
    "trainer = ModelTrainer(model_type='alert_scorer')\n",
    "model, metrics = trainer.train(X_train, y_train, cv_folds=5)\n",
    "\n",
    "print(f\"Model trained with AUC: {metrics['test_auc']:.4f}\")"
   ]
  },
  {
   "cell_type": "markdown",
   "metadata": {},
   "source": [
    "## LightGBM Built-in Feature Importance"
   ]
  },
  {
   "cell_type": "code",
   "execution_count": null,
   "metadata": {},
   "outputs": [],
   "source": [
    "feature_importance_df = pd.DataFrame({\n",
    "    'feature': X.columns,\n",
    "    'importance': model.model.feature_importances_\n",
    "}).sort_values('importance', ascending=False)\n",
    "\n",
    "print(\"\\nTop 20 Most Important Features:\")\n",
    "print(feature_importance_df.head(20).to_string(index=False))\n",
    "\n",
    "plt.figure(figsize=(10, 8))\n",
    "top_n = 20\n",
    "top_features = feature_importance_df.head(top_n)\n",
    "plt.barh(range(top_n), top_features['importance'])\n",
    "plt.yticks(range(top_n), top_features['feature'])\n",
    "plt.xlabel('Importance')\n",
    "plt.title(f'Top {top_n} Features by LightGBM Importance')\n",
    "plt.gca().invert_yaxis()\n",
    "plt.grid(True, alpha=0.3, axis='x')\n",
    "plt.tight_layout()\n",
    "plt.show()"
   ]
  },
  {
   "cell_type": "markdown",
   "metadata": {},
   "source": [
    "## Permutation Importance"
   ]
  },
  {
   "cell_type": "code",
   "execution_count": null,
   "metadata": {},
   "outputs": [],
   "source": [
    "print(\"Calculating permutation importance (this may take a while)...\")\n",
    "perm_importance = permutation_importance(\n",
    "    model.model, X_test, y_test,\n",
    "    n_repeats=10,\n",
    "    random_state=RANDOM_STATE,\n",
    "    scoring='roc_auc'\n",
    ")\n",
    "\n",
    "perm_importance_df = pd.DataFrame({\n",
    "    'feature': X.columns,\n",
    "    'importance_mean': perm_importance.importances_mean,\n",
    "    'importance_std': perm_importance.importances_std\n",
    "}).sort_values('importance_mean', ascending=False)\n",
    "\n",
    "print(\"\\nTop 20 Features by Permutation Importance:\")\n",
    "print(perm_importance_df.head(20).to_string(index=False))"
   ]
  },
  {
   "cell_type": "code",
   "execution_count": null,
   "metadata": {},
   "outputs": [],
   "source": [
    "plt.figure(figsize=(10, 8))\n",
    "top_n = 20\n",
    "top_perm = perm_importance_df.head(top_n)\n",
    "plt.barh(range(top_n), top_perm['importance_mean'],\n",
    "         xerr=top_perm['importance_std'], capsize=3)\n",
    "plt.yticks(range(top_n), top_perm['feature'])\n",
    "plt.xlabel('Permutation Importance')\n",
    "plt.title(f'Top {top_n} Features by Permutation Importance')\n",
    "plt.gca().invert_yaxis()\n",
    "plt.grid(True, alpha=0.3, axis='x')\n",
    "plt.tight_layout()\n",
    "plt.show()"
   ]
  },
  {
   "cell_type": "markdown",
   "metadata": {},
   "source": [
    "## SHAP Analysis - Initialization"
   ]
  },
  {
   "cell_type": "code",
   "execution_count": null,
   "metadata": {},
   "outputs": [],
   "source": [
    "print(\"Initializing SHAP explainer...\")\n",
    "explainer = shap.TreeExplainer(model.model)\n",
    "\n",
    "sample_size = min(1000, len(X_test))\n",
    "X_test_sample = X_test.sample(n=sample_size, random_state=RANDOM_STATE)\n",
    "\n",
    "print(f\"Calculating SHAP values for {sample_size} samples...\")\n",
    "shap_values = explainer.shap_values(X_test_sample)\n",
    "print(\"SHAP values calculated\")"
   ]
  },
  {
   "cell_type": "markdown",
   "metadata": {},
   "source": [
    "## SHAP Summary Plot"
   ]
  },
  {
   "cell_type": "code",
   "execution_count": null,
   "metadata": {},
   "outputs": [],
   "source": [
    "plt.figure(figsize=(10, 8))\n",
    "shap.summary_plot(shap_values, X_test_sample, plot_type=\"bar\", show=False)\n",
    "plt.title('SHAP Feature Importance')\n",
    "plt.tight_layout()\n",
    "plt.show()"
   ]
  },
  {
   "cell_type": "code",
   "execution_count": null,
   "metadata": {},
   "outputs": [],
   "source": [
    "plt.figure(figsize=(10, 10))\n",
    "shap.summary_plot(shap_values, X_test_sample, show=False)\n",
    "plt.title('SHAP Summary Plot (Feature Impact)')\n",
    "plt.tight_layout()\n",
    "plt.show()"
   ]
  },
  {
   "cell_type": "markdown",
   "metadata": {},
   "source": [
    "## SHAP Dependence Plots"
   ]
  },
  {
   "cell_type": "code",
   "execution_count": null,
   "metadata": {},
   "outputs": [],
   "source": [
    "top_features_for_shap = feature_importance_df.head(6)['feature'].tolist()\n",
    "\n",
    "fig, axes = plt.subplots(2, 3, figsize=(15, 10))\n",
    "axes = axes.flatten()\n",
    "\n",
    "for idx, feature in enumerate(top_features_for_shap):\n",
    "    if feature in X_test_sample.columns:\n",
    "        shap.dependence_plot(\n",
    "            feature, shap_values, X_test_sample,\n",
    "            ax=axes[idx], show=False\n",
    "        )\n",
    "        axes[idx].set_title(f'SHAP Dependence: {feature}')\n",
    "\n",
    "plt.tight_layout()\n",
    "plt.show()"
   ]
  },
  {
   "cell_type": "markdown",
   "metadata": {},
   "source": [
    "## SHAP Force Plot - Individual Predictions"
   ]
  },
  {
   "cell_type": "code",
   "execution_count": null,
   "metadata": {},
   "outputs": [],
   "source": [
    "shap.initjs()\n",
    "\n",
    "print(\"High risk prediction example:\")\n",
    "high_risk_idx = y_test_sample[y_test_sample == 1].index[0]\n",
    "shap.force_plot(\n",
    "    explainer.expected_value,\n",
    "    shap_values[X_test_sample.index.get_loc(high_risk_idx)],\n",
    "    X_test_sample.loc[high_risk_idx]\n",
    ")"
   ]
  },
  {
   "cell_type": "code",
   "execution_count": null,
   "metadata": {},
   "outputs": [],
   "source": [
    "print(\"Low risk prediction example:\")\n",
    "low_risk_idx = y_test_sample[y_test_sample == 0].index[0]\n",
    "shap.force_plot(\n",
    "    explainer.expected_value,\n",
    "    shap_values[X_test_sample.index.get_loc(low_risk_idx)],\n",
    "    X_test_sample.loc[low_risk_idx]\n",
    ")"
   ]
  },
  {
   "cell_type": "markdown",
   "metadata": {},
   "source": [
    "## Feature Interaction Analysis"
   ]
  },
  {
   "cell_type": "code",
   "execution_count": null,
   "metadata": {},
   "outputs": [],
   "source": [
    "top_2_features = feature_importance_df.head(2)['feature'].tolist()\n",
    "\n",
    "if len(top_2_features) >= 2:\n",
    "    print(f\"Analyzing interaction between: {top_2_features[0]} and {top_2_features[1]}\")\n",
    "    \n",
    "    shap_interaction_values = explainer.shap_interaction_values(X_test_sample)\n",
    "    \n",
    "    plt.figure(figsize=(10, 8))\n",
    "    shap.dependence_plot(\n",
    "        (top_2_features[0], top_2_features[1]),\n",
    "        shap_interaction_values,\n",
    "        X_test_sample,\n",
    "        show=False\n",
    "    )\n",
    "    plt.title(f'Feature Interaction: {top_2_features[0]} × {top_2_features[1]}')\n",
    "    plt.tight_layout()\n",
    "    plt.show()"
   ]
  },
  {
   "cell_type": "markdown",
   "metadata": {},
   "source": [
    "## Partial Dependence Plots"
   ]
  },
  {
   "cell_type": "code",
   "execution_count": null,
   "metadata": {},
   "outputs": [],
   "source": [
    "top_features_for_pd = feature_importance_df.head(4)['feature'].tolist()\n",
    "\n",
    "fig, axes = plt.subplots(2, 2, figsize=(14, 10))\n",
    "axes = axes.flatten()\n",
    "\n",
    "for idx, feature in enumerate(top_features_for_pd):\n",
    "    feature_idx = X.columns.get_loc(feature)\n",
    "    pd_result = partial_dependence(\n",
    "        model.model, X_test, [feature_idx],\n",
    "        grid_resolution=50\n",
    "    )\n",
    "    \n",
    "    axes[idx].plot(pd_result['values'][0], pd_result['average'][0], linewidth=2)\n",
    "    axes[idx].set_xlabel(feature)\n",
    "    axes[idx].set_ylabel('Partial Dependence')\n",
    "    axes[idx].set_title(f'Partial Dependence: {feature}')\n",
    "    axes[idx].grid(True, alpha=0.3)\n",
    "\n",
    "plt.tight_layout()\n",
    "plt.show()"
   ]
  },
  {
   "cell_type": "markdown",
   "metadata": {},
   "source": [
    "## Compare Importance Methods"
   ]
  },
  {
   "cell_type": "code",
   "execution_count": null,
   "metadata": {},
   "outputs": [],
   "source": [
    "shap_importance = pd.DataFrame({\n",
    "    'feature': X_test_sample.columns,\n",
    "    'shap_importance': np.abs(shap_values).mean(axis=0)\n",
    "}).sort_values('shap_importance', ascending=False)\n",
    "\n",
    "comparison_df = feature_importance_df[['feature', 'importance']].copy()\n",
    "comparison_df.columns = ['feature', 'lightgbm_importance']\n",
    "comparison_df = comparison_df.merge(perm_importance_df[['feature', 'importance_mean']], on='feature')\n",
    "comparison_df.columns = ['feature', 'lightgbm_importance', 'perm_importance']\n",
    "comparison_df = comparison_df.merge(shap_importance, on='feature')\n",
    "\n",
    "for col in ['lightgbm_importance', 'perm_importance', 'shap_importance']:\n",
    "    comparison_df[f'{col}_rank'] = comparison_df[col].rank(ascending=False)\n",
    "\n",
    "comparison_df = comparison_df.sort_values('lightgbm_importance', ascending=False)\n",
    "\n",
    "print(\"\\nTop 15 Features - Comparison Across Methods:\")\n",
    "display_cols = ['feature', 'lightgbm_importance_rank', 'perm_importance_rank', 'shap_importance_rank']\n",
    "print(comparison_df[display_cols].head(15).to_string(index=False))"
   ]
  },
  {
   "cell_type": "code",
   "execution_count": null,
   "metadata": {},
   "outputs": [],
   "source": [
    "top_features_comparison = comparison_df.head(15)\n",
    "\n",
    "fig, ax = plt.subplots(figsize=(12, 8))\n",
    "x = np.arange(len(top_features_comparison))\n",
    "width = 0.25\n",
    "\n",
    "ax.bar(x - width, top_features_comparison['lightgbm_importance_rank'], \n",
    "       width, label='LightGBM', alpha=0.8)\n",
    "ax.bar(x, top_features_comparison['perm_importance_rank'], \n",
    "       width, label='Permutation', alpha=0.8)\n",
    "ax.bar(x + width, top_features_comparison['shap_importance_rank'], \n",
    "       width, label='SHAP', alpha=0.8)\n",
    "\n",
    "ax.set_xlabel('Feature')\n",
    "ax.set_ylabel('Rank (lower is better)')\n",
    "ax.set_title('Feature Importance Ranking Comparison')\n",
    "ax.set_xticks(x)\n",
    "ax.set_xticklabels(top_features_comparison['feature'], rotation=45, ha='right')\n",
    "ax.legend()\n",
    "ax.invert_yaxis()\n",
    "ax.grid(True, alpha=0.3, axis='y')\n",
    "plt.tight_layout()\n",
    "plt.show()"
   ]
  },
  {
   "cell_type": "markdown",
   "metadata": {},
   "source": [
    "## Feature Groups Analysis"
   ]
  },
  {
   "cell_type": "code",
   "execution_count": null,
   "metadata": {},
   "outputs": [],
   "source": [
    "def categorize_feature(feature_name):\n",
    "    feature_lower = feature_name.lower()\n",
    "    if 'volume' in feature_lower or 'amount' in feature_lower:\n",
    "        return 'Volume'\n",
    "    elif 'count' in feature_lower or 'number' in feature_lower:\n",
    "        return 'Count'\n",
    "    elif 'time' in feature_lower or 'date' in feature_lower or 'duration' in feature_lower:\n",
    "        return 'Temporal'\n",
    "    elif 'ratio' in feature_lower or 'rate' in feature_lower:\n",
    "        return 'Ratio'\n",
    "    elif 'severity' in feature_lower:\n",
    "        return 'Severity'\n",
    "    else:\n",
    "        return 'Other'\n",
    "\n",
    "feature_importance_df['category'] = feature_importance_df['feature'].apply(categorize_feature)\n",
    "category_importance = feature_importance_df.groupby('category')['importance'].sum().sort_values(ascending=False)\n",
    "\n",
    "plt.figure(figsize=(10, 6))\n",
    "category_importance.plot(kind='bar')\n",
    "plt.title('Feature Importance by Category')\n",
    "plt.xlabel('Category')\n",
    "plt.ylabel('Total Importance')\n",
    "plt.xticks(rotation=45)\n",
    "plt.grid(True, alpha=0.3, axis='y')\n",
    "plt.tight_layout()\n",
    "plt.show()\n",
    "\n",
    "print(\"\\nImportance by Feature Category:\")\n",
    "print(category_importance)"
   ]
  },
  {
   "cell_type": "markdown",
   "metadata": {},
   "source": [
    "## Top Features Summary"
   ]
  },
  {
   "cell_type": "code",
   "execution_count": null,
   "metadata": {},
   "outputs": [],
   "source": [
    "top_n = 10\n",
    "top_features_summary = feature_importance_df.head(top_n)\n",
    "\n",
    "print(\"\\n\" + \"=\"*70)\n",
    "print(f\"TOP {top_n} MOST IMPORTANT FEATURES\")\n",
    "print(\"=\"*70)\n",
    "for idx, row in top_features_summary.iterrows():\n",
    "    print(f\"{row['feature']:40s} {row['importance']:>10.4f} ({row['category']})\")\n",
    "print(\"=\"*70)\n",
    "\n",
    "total_importance = feature_importance_df['importance'].sum()\n",
    "top_n_importance = top_features_summary['importance'].sum()\n",
    "coverage = (top_n_importance / total_importance * 100)\n",
    "\n",
    "print(f\"\\nTop {top_n} features account for {coverage:.1f}% of total importance\")"
   ]
  },
  {
   "cell_type": "markdown",
   "metadata": {},
   "source": [
    "## Conclusions\n",
    "\n",
    "**Feature Importance Insights**:\n",
    "\n",
    "1. **Top Features**: Review the most impactful features\n",
    "2. **Method Consistency**: Compare rankings across different methods\n",
    "3. **Feature Categories**: Understand which types of features matter most\n",
    "4. **Interactions**: Identify important feature relationships\n",
    "\n",
    "**Key Observations**:\n",
    "- SHAP provides directional impact (positive/negative)\n",
    "- Permutation importance shows real-world impact\n",
    "- Built-in importance is fast but less interpretable\n",
    "- Partial dependence reveals non-linear relationships\n",
    "\n",
    "**Next Steps**:\n",
    "- Focus data collection on important features\n",
    "- Consider feature engineering based on interactions\n",
    "- Review Error Analysis to understand prediction failures\n",
    "- Use insights for model refinement"
   ]
  }
 ],
 "metadata": {
  "kernelspec": {
   "display_name": "Python 3",
   "language": "python",
   "name": "python3"
  },
  "language_info": {
   "codemirror_mode": {
    "name": "ipython",
    "version": 3
   },
   "file_extension": ".py",
   "mimetype": "text/x-python",
   "name": "python",
   "nbconvert_exporter": "python",
   "pygments_lexer": "ipython3",
   "version": "3.11.0"
  }
 },
 "nbformat": 4,
 "nbformat_minor": 4
}