{
 "cells": [
  {
   "cell_type": "markdown",
   "metadata": {},
   "source": [
    "# Model Training\n",
    "\n",
    "**Purpose**: Interactive model training and quick iteration\n",
    "\n",
    "This notebook provides:\n",
    "- Quick model training experiments\n",
    "- Parameter adjustments\n",
    "- Immediate feedback on metrics\n",
    "- Model comparison\n",
    "- Save/load functionality"
   ]
  },
  {
   "cell_type": "markdown",
   "metadata": {},
   "source": [
    "## Setup"
   ]
  },
  {
   "cell_type": "code",
   "execution_count": null,
   "metadata": {},
   "outputs": [],
   "source": [
    "import sys\n",
    "sys.path.insert(0, '../')\n",
    "\n",
    "from packages.training import FeatureExtractor, FeatureBuilder, ModelTrainer\n",
    "from packages.storage import ClientFactory, get_connection_params\n",
    "from notebook_utils import *\n",
    "\n",
    "import pandas as pd\n",
    "import numpy as np\n",
    "import matplotlib.pyplot as plt\n",
    "import seaborn as sns\n",
    "from loguru import logger\n",
    "from sklearn.model_selection import train_test_split\n",
    "from sklearn.metrics import classification_report, roc_auc_score\n",
    "\n",
    "setup_plotting()"
   ]
  },
  {
   "cell_type": "markdown",
   "metadata": {},
   "source": [
    "## Configuration"
   ]
  },
  {
   "cell_type": "code",
   "execution_count": null,
   "metadata": {},
   "outputs": [],
   "source": [
    "NETWORK = 'ethereum'\n",
    "START_DATE = '2024-01-01'\n",
    "END_DATE = '2024-02-29'\n",
    "WINDOW_DAYS = 7\n",
    "TEST_SIZE = 0.2\n",
    "RANDOM_STATE = 42\n",
    "\n",
    "print(f\"Network: {NETWORK}\")\n",
    "print(f\"Training Period: {START_DATE} to {END_DATE}\")\n",
    "print(f\"Window: {WINDOW_DAYS} days\")\n",
    "print(f\"Test Split: {TEST_SIZE * 100}%\")"
   ]
  },
  {
   "cell_type": "markdown",
   "metadata": {},
   "source": [
    "## Load and Prepare Data"
   ]
  },
  {
   "cell_type": "code",
   "execution_count": null,
   "metadata": {},
   "outputs": [],
   "source": [
    "connection_params = get_connection_params(NETWORK)\n",
    "client_factory = ClientFactory(connection_params)\n",
    "\n",
    "with client_factory.client_context() as client:\n",
    "    extractor = FeatureExtractor(client)\n",
    "    data = extractor.extract_training_data(\n",
    "        start_date=START_DATE,\n",
    "        end_date=END_DATE,\n",
    "        window_days=WINDOW_DAYS\n",
    "    )\n",
    "\n",
    "print(f\"Extracted {len(data):,} samples\")"
   ]
  },
  {
   "cell_type": "markdown",
   "metadata": {},
   "source": [
    "## Build Features"
   ]
  },
  {
   "cell_type": "code",
   "execution_count": null,
   "metadata": {},
   "outputs": [],
   "source": [
    "builder = FeatureBuilder()\n",
    "X, y = builder.build_training_features(data)\n",
    "\n",
    "print(f\"Feature matrix: {X.shape}\")\n",
    "print(f\"Target: {y.shape}\")\n",
    "print(f\"\\nClass distribution:\")\n",
    "print(y.value_counts())\n",
    "print(f\"\\nClass balance: {(y.value_counts() / len(y) * 100).round(2)}%\")"
   ]
  },
  {
   "cell_type": "markdown",
   "metadata": {},
   "source": [
    "## Train/Test Split"
   ]
  },
  {
   "cell_type": "code",
   "execution_count": null,
   "metadata": {},
   "outputs": [],
   "source": [
    "X_train, X_test, y_train, y_test = train_test_split(\n",
    "    X, y, test_size=TEST_SIZE, random_state=RANDOM_STATE, stratify=y\n",
    ")\n",
    "\n",
    "print(f\"Training set: {X_train.shape}\")\n",
    "print(f\"Test set: {X_test.shape}\")\n",
    "print(f\"\\nTraining class distribution:\")\n",
    "print(y_train.value_counts())\n",
    "print(f\"\\nTest class distribution:\")\n",
    "print(y_test.value_counts())"
   ]
  },
  {
   "cell_type": "markdown",
   "metadata": {},
   "source": [
    "## Train Alert Scorer Model"
   ]
  },
  {
   "cell_type": "code",
   "execution_count": null,
   "metadata": {},
   "outputs": [],
   "source": [
    "trainer = ModelTrainer(model_type='alert_scorer')\n",
    "model, metrics = trainer.train(X_train, y_train, cv_folds=5)\n",
    "\n",
    "print(\"\\n=== Alert Scorer Metrics ===\")\n",
    "print(f\"Test AUC: {metrics['test_auc']:.4f}\")\n",
    "print(f\"CV AUC: {metrics['cv_auc_mean']:.4f} ± {metrics['cv_auc_std']:.4f}\")\n",
    "print(f\"CV Precision: {metrics['cv_precision_mean']:.4f} ± {metrics['cv_precision_std']:.4f}\")\n",
    "print(f\"CV Recall: {metrics['cv_recall_mean']:.4f} ± {metrics['cv_recall_std']:.4f}\")\n",
    "print(f\"CV F1: {metrics['cv_f1_mean']:.4f} ± {metrics['cv_f1_std']:.4f}\")"
   ]
  },
  {
   "cell_type": "markdown",
   "metadata": {},
   "source": [
    "## Evaluate on Test Set"
   ]
  },
  {
   "cell_type": "code",
   "execution_count": null,
   "metadata": {},
   "outputs": [],
   "source": [
    "y_pred_proba = model.predict(X_test)\n",
    "y_pred = (y_pred_proba > 0.5).astype(int)\n",
    "\n",
    "test_auc = roc_auc_score(y_test, y_pred_proba)\n",
    "print(f\"Test Set AUC: {test_auc:.4f}\")\n",
    "print(\"\\nClassification Report:\")\n",
    "print(classification_report(y_test, y_pred))"
   ]
  },
  {
   "cell_type": "markdown",
   "metadata": {},
   "source": [
    "## Visualize ROC Curve"
   ]
  },
  {
   "cell_type": "code",
   "execution_count": null,
   "metadata": {},
   "outputs": [],
   "source": [
    "plot_roc_curve(y_test, y_pred_proba, model_name='Alert Scorer')\n",
    "plt.show()"
   ]
  },
  {
   "cell_type": "markdown",
   "metadata": {},
   "source": [
    "## Visualize Precision-Recall Curve"
   ]
  },
  {
   "cell_type": "code",
   "execution_count": null,
   "metadata": {},
   "outputs": [],
   "source": [
    "plot_pr_curve(y_test, y_pred_proba, model_name='Alert Scorer')\n",
    "plt.show()"
   ]
  },
  {
   "cell_type": "markdown",
   "metadata": {},
   "source": [
    "## Confusion Matrix"
   ]
  },
  {
   "cell_type": "code",
   "execution_count": null,
   "metadata": {},
   "outputs": [],
   "source": [
    "plot_confusion_matrix(y_test, y_pred, labels=['Low Risk', 'High Risk'])\n",
    "plt.show()"
   ]
  },
  {
   "cell_type": "markdown",
   "metadata": {},
   "source": [
    "## Score Distribution"
   ]
  },
  {
   "cell_type": "code",
   "execution_count": null,
   "metadata": {},
   "outputs": [],
   "source": [
    "plt.figure(figsize=(12, 5))\n",
    "\n",
    "plt.subplot(1, 2, 1)\n",
    "plt.hist(y_pred_proba[y_test == 0], bins=50, alpha=0.6, label='Actual: Low Risk', edgecolor='black')\n",
    "plt.hist(y_pred_proba[y_test == 1], bins=50, alpha=0.6, label='Actual: High Risk', edgecolor='black')\n",
    "plt.xlabel('Predicted Probability')\n",
    "plt.ylabel('Frequency')\n",
    "plt.title('Score Distribution by Actual Class')\n",
    "plt.legend()\n",
    "plt.grid(True, alpha=0.3)\n",
    "\n",
    "plt.subplot(1, 2, 2)\n",
    "plt.boxplot([y_pred_proba[y_test == 0], y_pred_proba[y_test == 1]], labels=['Low Risk', 'High Risk'])\n",
    "plt.ylabel('Predicted Probability')\n",
    "plt.title('Score Distribution Box Plot')\n",
    "plt.grid(True, alpha=0.3, axis='y')\n",
    "\n",
    "plt.tight_layout()\n",
    "plt.show()"
   ]
  },
  {
   "cell_type": "markdown",
   "metadata": {},
   "source": [
    "## Train Alert Ranker Model"
   ]
  },
  {
   "cell_type": "code",
   "execution_count": null,
   "metadata": {},
   "outputs": [],
   "source": [
    "ranker_trainer = ModelTrainer(model_type='alert_ranker')\n",
    "ranker_model, ranker_metrics = ranker_trainer.train(X_train, y_train, cv_folds=5)\n",
    "\n",
    "print(\"\\n=== Alert Ranker Metrics ===\")\n",
    "print(f\"Test NDCG: {ranker_metrics.get('test_ndcg', 'N/A')}\")\n",
    "print(f\"CV NDCG: {ranker_metrics.get('cv_ndcg_mean', 'N/A')}\")"
   ]
  },
  {
   "cell_type": "markdown",
   "metadata": {},
   "source": [
    "## Compare Models"
   ]
  },
  {
   "cell_type": "code",
   "execution_count": null,
   "metadata": {},
   "outputs": [],
   "source": [
    "comparison_metrics = {\n",
    "    'Alert Scorer': metrics['test_auc'],\n",
    "    'Alert Ranker': ranker_metrics.get('test_auc', 0.0)\n",
    "}\n",
    "\n",
    "plot_metric_comparison(comparison_metrics, 'Model Comparison: Test AUC')\n",
    "plt.show()"
   ]
  },
  {
   "cell_type": "markdown",
   "metadata": {},
   "source": [
    "## Save Model (Optional)"
   ]
  },
  {
   "cell_type": "code",
   "execution_count": null,
   "metadata": {},
   "outputs": [],
   "source": [
    "# Uncomment to save model\n",
    "# from packages.training import ModelStorage\n",
    "# \n",
    "# with client_factory.client_context() as client:\n",
    "#     storage = ModelStorage(client)\n",
    "#     model_id = storage.save_model(\n",
    "#         model=model,\n",
    "#         model_type='alert_scorer',\n",
    "#         network=NETWORK,\n",
    "#         metrics=metrics,\n",
    "#         feature_names=X.columns.tolist(),\n",
    "#         training_config={\n",
    "#             'start_date': START_DATE,\n",
    "#             'end_date': END_DATE,\n",
    "#             'window_days': WINDOW_DAYS\n",
    "#         }\n",
    "#     )\n",
    "#     print(f\"Model saved with ID: {model_id}\")\n",
    "\n",
    "print(\"Model saving disabled (uncomment to enable)\")"
   ]
  },
  {
   "cell_type": "markdown",
   "metadata": {},
   "source": [
    "## Experiment: Different Parameters"
   ]
  },
  {
   "cell_type": "code",
   "execution_count": null,
   "metadata": {},
   "outputs": [],
   "source": [
    "# Experiment with different learning rates\n",
    "learning_rates = [0.01, 0.05, 0.1]\n",
    "lr_results = {}\n",
    "\n",
    "for lr in learning_rates:\n",
    "    print(f\"\\nTraining with learning_rate={lr}\")\n",
    "    exp_trainer = ModelTrainer(\n",
    "        model_type='alert_scorer',\n",
    "        learning_rate=lr\n",
    "    )\n",
    "    exp_model, exp_metrics = exp_trainer.train(X_train, y_train, cv_folds=3)\n",
    "    lr_results[f'LR={lr}'] = exp_metrics['test_auc']\n",
    "    print(f\"Test AUC: {exp_metrics['test_auc']:.4f}\")\n",
    "\n",
    "print(\"\\nLearning Rate Comparison:\")\n",
    "plot_metric_comparison(lr_results, 'Learning Rate Impact on Test AUC')\n",
    "plt.show()"
   ]
  },
  {
   "cell_type": "markdown",
   "metadata": {},
   "source": [
    "## Experiment: Different Tree Depths"
   ]
  },
  {
   "cell_type": "code",
   "execution_count": null,
   "metadata": {},
   "outputs": [],
   "source": [
    "# Experiment with different max depths\n",
    "max_depths = [3, 5, 7, 10]\n",
    "depth_results = {}\n",
    "\n",
    "for depth in max_depths:\n",
    "    print(f\"\\nTraining with max_depth={depth}\")\n",
    "    exp_trainer = ModelTrainer(\n",
    "        model_type='alert_scorer',\n",
    "        max_depth=depth\n",
    "    )\n",
    "    exp_model, exp_metrics = exp_trainer.train(X_train, y_train, cv_folds=3)\n",
    "    depth_results[f'Depth={depth}'] = exp_metrics['test_auc']\n",
    "    print(f\"Test AUC: {exp_metrics['test_auc']:.4f}\")\n",
    "\n",
    "print(\"\\nTree Depth Comparison:\")\n",
    "plot_metric_comparison(depth_results, 'Max Depth Impact on Test AUC')\n",
    "plt.show()"
   ]
  },
  {
   "cell_type": "markdown",
   "metadata": {},
   "source": [
    "## Feature Importance Quick View"
   ]
  },
  {
   "cell_type": "code",
   "execution_count": null,
   "metadata": {},
   "outputs": [],
   "source": [
    "feature_importance = pd.DataFrame({\n",
    "    'feature': X.columns,\n",
    "    'importance': model.model.feature_importances_\n",
    "}).sort_values('importance', ascending=False)\n",
    "\n",
    "print(\"\\nTop 15 Most Important Features:\")\n",
    "print(feature_importance.head(15))\n",
    "\n",
    "plt.figure(figsize=(10, 6))\n",
    "feature_importance.head(15).plot(x='feature', y='importance', kind='barh')\n",
    "plt.title('Top 15 Feature Importances')\n",
    "plt.xlabel('Importance')\n",
    "plt.ylabel('Feature')\n",
    "plt.gca().invert_yaxis()\n",
    "plt.tight_layout()\n",
    "plt.show()"
   ]
  },
  {
   "cell_type": "markdown",
   "metadata": {},
   "source": [
    "## Conclusions\n",
    "\n",
    "**Model Performance**:\n",
    "- Review test AUC and cross-validation scores\n",
    "- Check for overfitting (train vs test performance)\n",
    "- Analyze score distributions\n",
    "\n",
    "**Parameter Experiments**:\n",
    "- Learning rate impact\n",
    "- Tree depth impact\n",
    "- Other hyperparameter effects\n",
    "\n",
    "**Next Steps**:\n",
    "- Proceed to Hyperparameter Tuning for systematic optimization\n",
    "- Use Model Evaluation notebook for detailed analysis\n",
    "- Review Feature Importance notebook for deeper insights\n",
    "- Consider Error Analysis to understand mistakes"
   ]
  }
 ],
 "metadata": {
  "kernelspec": {
   "display_name": "Python 3",
   "language": "python",
   "name": "python3"
  },
  "language_info": {
   "codemirror_mode": {
    "name": "ipython",
    "version": 3
   },
   "file_extension": ".py",
   "mimetype": "text/x-python",
   "name": "python",
   "nbconvert_exporter": "python",
   "pygments_lexer": "ipython3",
   "version": "3.11.0"
  }
 },
 "nbformat": 4,
 "nbformat_minor": 4
}